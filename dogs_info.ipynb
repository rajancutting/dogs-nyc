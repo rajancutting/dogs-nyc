{
 "cells": [
  {
   "cell_type": "code",
   "execution_count": 1,
   "metadata": {},
   "outputs": [],
   "source": [
    "import pandas as pd\n",
    "import numpy as np\n",
    "import matplotlib.pyplot as plt"
   ]
  },
  {
   "cell_type": "code",
   "execution_count": 2,
   "metadata": {},
   "outputs": [
    {
     "data": {
      "text/plain": [
       "RowNumber                  0\n",
       "AnimalName               706\n",
       "AnimalGender              18\n",
       "AnimalBirthMonth           0\n",
       "BreedName                  0\n",
       "Borough               345727\n",
       "ZipCode                    0\n",
       "LicenseIssuedDate          0\n",
       "LicenseExpiredDate         0\n",
       "Extract Year               0\n",
       "dtype: int64"
      ]
     },
     "execution_count": 2,
     "metadata": {},
     "output_type": "execute_result"
    }
   ],
   "source": [
    "df = pd.read_csv('NYC_Dog_Licensing_Dataset.csv')\n",
    "df.isna().sum()"
   ]
  },
  {
   "cell_type": "code",
   "execution_count": 3,
   "metadata": {},
   "outputs": [
    {
     "name": "stdout",
     "output_type": "stream",
     "text": [
      "<class 'str'>\n",
      "<class 'str'>\n"
     ]
    }
   ],
   "source": [
    "print(type(df.LicenseIssuedDate[0]))\n",
    "print(type(df.LicenseExpiredDate[0]))"
   ]
  },
  {
   "cell_type": "code",
   "execution_count": 4,
   "metadata": {},
   "outputs": [],
   "source": [
    "#Need to add the proper date formats\n",
    "df['LicenseIssuedDate'] = pd.to_datetime(df.LicenseIssuedDate)\n",
    "df['LicenseExpiredDate'] = pd.to_datetime(df.LicenseExpiredDate)"
   ]
  },
  {
   "cell_type": "code",
   "execution_count": 5,
   "metadata": {},
   "outputs": [
    {
     "data": {
      "text/html": [
       "<div>\n",
       "<style scoped>\n",
       "    .dataframe tbody tr th:only-of-type {\n",
       "        vertical-align: middle;\n",
       "    }\n",
       "\n",
       "    .dataframe tbody tr th {\n",
       "        vertical-align: top;\n",
       "    }\n",
       "\n",
       "    .dataframe thead th {\n",
       "        text-align: right;\n",
       "    }\n",
       "</style>\n",
       "<table border=\"1\" class=\"dataframe\">\n",
       "  <thead>\n",
       "    <tr style=\"text-align: right;\">\n",
       "      <th></th>\n",
       "      <th>RowNumber</th>\n",
       "      <th>AnimalName</th>\n",
       "      <th>AnimalGender</th>\n",
       "      <th>AnimalBirthMonth</th>\n",
       "      <th>BreedName</th>\n",
       "      <th>Borough</th>\n",
       "      <th>ZipCode</th>\n",
       "      <th>LicenseIssuedDate</th>\n",
       "      <th>LicenseExpiredDate</th>\n",
       "      <th>Extract Year</th>\n",
       "    </tr>\n",
       "  </thead>\n",
       "  <tbody>\n",
       "    <tr>\n",
       "      <th>345722</th>\n",
       "      <td>117367</td>\n",
       "      <td>BOLAND</td>\n",
       "      <td>F</td>\n",
       "      <td>2018</td>\n",
       "      <td>Pomeranian</td>\n",
       "      <td>NaN</td>\n",
       "      <td>10306</td>\n",
       "      <td>2018-12-31</td>\n",
       "      <td>2019-12-31</td>\n",
       "      <td>2018</td>\n",
       "    </tr>\n",
       "    <tr>\n",
       "      <th>345723</th>\n",
       "      <td>117368</td>\n",
       "      <td>UNKNOWN</td>\n",
       "      <td>M</td>\n",
       "      <td>2018</td>\n",
       "      <td>Australian Shepherd</td>\n",
       "      <td>NaN</td>\n",
       "      <td>11233</td>\n",
       "      <td>2018-12-31</td>\n",
       "      <td>2019-12-31</td>\n",
       "      <td>2018</td>\n",
       "    </tr>\n",
       "    <tr>\n",
       "      <th>345724</th>\n",
       "      <td>117369</td>\n",
       "      <td>UNKNOWN</td>\n",
       "      <td>F</td>\n",
       "      <td>2018</td>\n",
       "      <td>Dachshund</td>\n",
       "      <td>NaN</td>\n",
       "      <td>10454</td>\n",
       "      <td>2018-12-31</td>\n",
       "      <td>2019-12-31</td>\n",
       "      <td>2018</td>\n",
       "    </tr>\n",
       "    <tr>\n",
       "      <th>345725</th>\n",
       "      <td>117370</td>\n",
       "      <td>LUNA</td>\n",
       "      <td>F</td>\n",
       "      <td>2018</td>\n",
       "      <td>Jindo</td>\n",
       "      <td>NaN</td>\n",
       "      <td>11385</td>\n",
       "      <td>2018-12-31</td>\n",
       "      <td>2019-12-31</td>\n",
       "      <td>2018</td>\n",
       "    </tr>\n",
       "    <tr>\n",
       "      <th>345726</th>\n",
       "      <td>117371</td>\n",
       "      <td>HUNTER</td>\n",
       "      <td>M</td>\n",
       "      <td>2017</td>\n",
       "      <td>Siberian Husky</td>\n",
       "      <td>NaN</td>\n",
       "      <td>10456</td>\n",
       "      <td>2018-12-31</td>\n",
       "      <td>2019-12-31</td>\n",
       "      <td>2018</td>\n",
       "    </tr>\n",
       "  </tbody>\n",
       "</table>\n",
       "</div>"
      ],
      "text/plain": [
       "        RowNumber AnimalName AnimalGender  AnimalBirthMonth  \\\n",
       "345722     117367     BOLAND            F              2018   \n",
       "345723     117368    UNKNOWN            M              2018   \n",
       "345724     117369    UNKNOWN            F              2018   \n",
       "345725     117370       LUNA            F              2018   \n",
       "345726     117371     HUNTER            M              2017   \n",
       "\n",
       "                  BreedName  Borough  ZipCode LicenseIssuedDate  \\\n",
       "345722           Pomeranian      NaN    10306        2018-12-31   \n",
       "345723  Australian Shepherd      NaN    11233        2018-12-31   \n",
       "345724            Dachshund      NaN    10454        2018-12-31   \n",
       "345725                Jindo      NaN    11385        2018-12-31   \n",
       "345726       Siberian Husky      NaN    10456        2018-12-31   \n",
       "\n",
       "       LicenseExpiredDate  Extract Year  \n",
       "345722         2019-12-31          2018  \n",
       "345723         2019-12-31          2018  \n",
       "345724         2019-12-31          2018  \n",
       "345725         2019-12-31          2018  \n",
       "345726         2019-12-31          2018  "
      ]
     },
     "execution_count": 5,
     "metadata": {},
     "output_type": "execute_result"
    }
   ],
   "source": [
    "df.tail()"
   ]
  },
  {
   "cell_type": "code",
   "execution_count": 6,
   "metadata": {},
   "outputs": [],
   "source": [
    "# List of boro zip codes. Zip codes taken from state gov website \n",
    "mh = [10026, 10027, 10030, 10037, 10039, 10001, 10011, 10018, 10019, 10020, 10036, 10029, 10035,\n",
    "      10010, 10016, 10017, 10022, 10012, 10013, 10014, 10004, 10005, 10006, 10007, 10038, 10280,\n",
    "      10002, 10003, 10009, 10021, 10028, 10044, 10065, 10075, 10128, 10023, 10024, 10025,10031, \n",
    "      10032, 10033, 10034, 10040]\n",
    "\n",
    "bx = [10453, 10457, 10460, 10458, 10467, 10468, 10451, 10452, 10456, 10454, 10455, 10459, 10474,\n",
    "      10463, 10471, 10466, 10469, 10470, 10475, 10461, 10462, 10464, 10465, 10472, 10473]\n",
    "\n",
    "bk = [11212, 11213, 11216, 11233, 11238, 11209, 11214, 11228, 11204, 11218, 11219, 11230, 11234, \n",
    "      11236, 11239, 11223, 11224, 11229, 11235, 11201, 11205, 11215, 11217, 11231, 11203, 11210, \n",
    "      11225, 11226, 11207, 11208, 11211, 11222, 11220, 11232, 11206, 11221, 11237]\n",
    "\n",
    "qu = [11361, 11362, 11363, 11364, 11354, 11355, 11356, 11357, 11358, 11359, 11360, 11365, 11366, \n",
    "      11367, 11412, 11423, 11432, 11433, 11434, 11435, 11436, 11101, 11102, 11103, 11104, 11105, \n",
    "      11106, 11374, 11375, 11379, 11385, 11691, 11692, 11693, 11694, 11695, 11697, 11004, 11005, \n",
    "      11411, 11413, 11422, 11426, 11427, 11428, 11429 ,11414, 11415, 11416, 11417, 11418, \n",
    "      11419, 11420, 11421, 11368, 11369, 11370, 11372, 11373, 11377, 11378]\n",
    "\n",
    "si = [10302, 10303, 10310,10306, 10307, 10308, 10309, 10312, 10301, 10304, 10305,10314]\n"
   ]
  },
  {
   "cell_type": "code",
   "execution_count": 7,
   "metadata": {},
   "outputs": [],
   "source": [
    "#Now need to use the zipcode to fill in the Borough\n",
    "def add_boro(zip_code):\n",
    "    if zip_code in bk:\n",
    "        return \"Brooklyn\"\n",
    "    if zip_code in mh:\n",
    "        return \"Manhattan\"\n",
    "    if zip_code in bx:\n",
    "        return \"Bronx\"\n",
    "    if zip_code in si:\n",
    "        return \"Staten Island\"\n",
    "    if zip_code in qu:\n",
    "        return \"Queens\""
   ]
  },
  {
   "cell_type": "code",
   "execution_count": 8,
   "metadata": {},
   "outputs": [
    {
     "data": {
      "text/html": [
       "<div>\n",
       "<style scoped>\n",
       "    .dataframe tbody tr th:only-of-type {\n",
       "        vertical-align: middle;\n",
       "    }\n",
       "\n",
       "    .dataframe tbody tr th {\n",
       "        vertical-align: top;\n",
       "    }\n",
       "\n",
       "    .dataframe thead th {\n",
       "        text-align: right;\n",
       "    }\n",
       "</style>\n",
       "<table border=\"1\" class=\"dataframe\">\n",
       "  <thead>\n",
       "    <tr style=\"text-align: right;\">\n",
       "      <th></th>\n",
       "      <th>RowNumber</th>\n",
       "      <th>AnimalName</th>\n",
       "      <th>AnimalGender</th>\n",
       "      <th>AnimalBirthMonth</th>\n",
       "      <th>BreedName</th>\n",
       "      <th>Borough</th>\n",
       "      <th>ZipCode</th>\n",
       "      <th>LicenseIssuedDate</th>\n",
       "      <th>LicenseExpiredDate</th>\n",
       "      <th>Extract Year</th>\n",
       "    </tr>\n",
       "  </thead>\n",
       "  <tbody>\n",
       "    <tr>\n",
       "      <th>54088</th>\n",
       "      <td>54089</td>\n",
       "      <td>KILO</td>\n",
       "      <td>M</td>\n",
       "      <td>2006</td>\n",
       "      <td>American Pit Bull Terrier/Pit Bull</td>\n",
       "      <td>Brooklyn</td>\n",
       "      <td>11233</td>\n",
       "      <td>2016-04-05</td>\n",
       "      <td>2017-04-05</td>\n",
       "      <td>2016</td>\n",
       "    </tr>\n",
       "    <tr>\n",
       "      <th>237153</th>\n",
       "      <td>8798</td>\n",
       "      <td>MAGIC</td>\n",
       "      <td>F</td>\n",
       "      <td>2010</td>\n",
       "      <td>Shih Tzu</td>\n",
       "      <td>None</td>\n",
       "      <td>11109</td>\n",
       "      <td>2016-11-30</td>\n",
       "      <td>2018-11-30</td>\n",
       "      <td>2018</td>\n",
       "    </tr>\n",
       "    <tr>\n",
       "      <th>57736</th>\n",
       "      <td>57737</td>\n",
       "      <td>TEDDY</td>\n",
       "      <td>M</td>\n",
       "      <td>2002</td>\n",
       "      <td>Shih Tzu</td>\n",
       "      <td>Brooklyn</td>\n",
       "      <td>11235</td>\n",
       "      <td>2016-04-21</td>\n",
       "      <td>2017-03-20</td>\n",
       "      <td>2016</td>\n",
       "    </tr>\n",
       "    <tr>\n",
       "      <th>294867</th>\n",
       "      <td>66512</td>\n",
       "      <td>MITCH</td>\n",
       "      <td>M</td>\n",
       "      <td>2015</td>\n",
       "      <td>German Shepherd Crossbreed</td>\n",
       "      <td>Manhattan</td>\n",
       "      <td>10024</td>\n",
       "      <td>2018-04-15</td>\n",
       "      <td>2019-05-13</td>\n",
       "      <td>2018</td>\n",
       "    </tr>\n",
       "    <tr>\n",
       "      <th>202750</th>\n",
       "      <td>90032</td>\n",
       "      <td>AXEL</td>\n",
       "      <td>M</td>\n",
       "      <td>2017</td>\n",
       "      <td>Chihuahua Crossbreed</td>\n",
       "      <td>Manhattan</td>\n",
       "      <td>10016</td>\n",
       "      <td>2017-08-27</td>\n",
       "      <td>2018-08-27</td>\n",
       "      <td>2017</td>\n",
       "    </tr>\n",
       "    <tr>\n",
       "      <th>19367</th>\n",
       "      <td>19368</td>\n",
       "      <td>SUNNY</td>\n",
       "      <td>M</td>\n",
       "      <td>1999</td>\n",
       "      <td>Bichon Frise</td>\n",
       "      <td>Manhattan</td>\n",
       "      <td>10128</td>\n",
       "      <td>2015-07-07</td>\n",
       "      <td>2016-07-07</td>\n",
       "      <td>2016</td>\n",
       "    </tr>\n",
       "    <tr>\n",
       "      <th>80429</th>\n",
       "      <td>80430</td>\n",
       "      <td>BERTIE</td>\n",
       "      <td>F</td>\n",
       "      <td>2013</td>\n",
       "      <td>Bull Dog, English</td>\n",
       "      <td>Manhattan</td>\n",
       "      <td>10023</td>\n",
       "      <td>2016-07-22</td>\n",
       "      <td>2017-09-20</td>\n",
       "      <td>2016</td>\n",
       "    </tr>\n",
       "    <tr>\n",
       "      <th>262134</th>\n",
       "      <td>33779</td>\n",
       "      <td>HOOCH</td>\n",
       "      <td>M</td>\n",
       "      <td>2011</td>\n",
       "      <td>Labrador Retriever</td>\n",
       "      <td>Manhattan</td>\n",
       "      <td>10012</td>\n",
       "      <td>2017-09-01</td>\n",
       "      <td>2018-09-01</td>\n",
       "      <td>2018</td>\n",
       "    </tr>\n",
       "    <tr>\n",
       "      <th>109194</th>\n",
       "      <td>109195</td>\n",
       "      <td>BOUDICCA</td>\n",
       "      <td>F</td>\n",
       "      <td>2006</td>\n",
       "      <td>American Pit Bull Mix / Pit Bull Mix</td>\n",
       "      <td>Manhattan</td>\n",
       "      <td>10009</td>\n",
       "      <td>2016-12-08</td>\n",
       "      <td>2017-12-30</td>\n",
       "      <td>2016</td>\n",
       "    </tr>\n",
       "    <tr>\n",
       "      <th>82592</th>\n",
       "      <td>82593</td>\n",
       "      <td>HARLEY</td>\n",
       "      <td>F</td>\n",
       "      <td>2013</td>\n",
       "      <td>German Shepherd Crossbreed</td>\n",
       "      <td>Brooklyn</td>\n",
       "      <td>11218</td>\n",
       "      <td>2016-08-01</td>\n",
       "      <td>2017-04-08</td>\n",
       "      <td>2016</td>\n",
       "    </tr>\n",
       "  </tbody>\n",
       "</table>\n",
       "</div>"
      ],
      "text/plain": [
       "        RowNumber AnimalName AnimalGender  AnimalBirthMonth  \\\n",
       "54088       54089       KILO            M              2006   \n",
       "237153       8798      MAGIC            F              2010   \n",
       "57736       57737      TEDDY            M              2002   \n",
       "294867      66512      MITCH            M              2015   \n",
       "202750      90032       AXEL            M              2017   \n",
       "19367       19368      SUNNY            M              1999   \n",
       "80429       80430     BERTIE            F              2013   \n",
       "262134      33779      HOOCH            M              2011   \n",
       "109194     109195   BOUDICCA            F              2006   \n",
       "82592       82593     HARLEY            F              2013   \n",
       "\n",
       "                                   BreedName    Borough  ZipCode  \\\n",
       "54088     American Pit Bull Terrier/Pit Bull   Brooklyn    11233   \n",
       "237153                              Shih Tzu       None    11109   \n",
       "57736                               Shih Tzu   Brooklyn    11235   \n",
       "294867            German Shepherd Crossbreed  Manhattan    10024   \n",
       "202750                  Chihuahua Crossbreed  Manhattan    10016   \n",
       "19367                           Bichon Frise  Manhattan    10128   \n",
       "80429                      Bull Dog, English  Manhattan    10023   \n",
       "262134                    Labrador Retriever  Manhattan    10012   \n",
       "109194  American Pit Bull Mix / Pit Bull Mix  Manhattan    10009   \n",
       "82592             German Shepherd Crossbreed   Brooklyn    11218   \n",
       "\n",
       "       LicenseIssuedDate LicenseExpiredDate  Extract Year  \n",
       "54088         2016-04-05         2017-04-05          2016  \n",
       "237153        2016-11-30         2018-11-30          2018  \n",
       "57736         2016-04-21         2017-03-20          2016  \n",
       "294867        2018-04-15         2019-05-13          2018  \n",
       "202750        2017-08-27         2018-08-27          2017  \n",
       "19367         2015-07-07         2016-07-07          2016  \n",
       "80429         2016-07-22         2017-09-20          2016  \n",
       "262134        2017-09-01         2018-09-01          2018  \n",
       "109194        2016-12-08         2017-12-30          2016  \n",
       "82592         2016-08-01         2017-04-08          2016  "
      ]
     },
     "execution_count": 8,
     "metadata": {},
     "output_type": "execute_result"
    }
   ],
   "source": [
    "df['Borough'] = df.ZipCode.apply(add_boro)\n",
    "df.sample(10)"
   ]
  },
  {
   "cell_type": "code",
   "execution_count": 9,
   "metadata": {},
   "outputs": [
    {
     "data": {
      "text/plain": [
       "RowNumber                0\n",
       "AnimalName             706\n",
       "AnimalGender            18\n",
       "AnimalBirthMonth         0\n",
       "BreedName                0\n",
       "Borough               5438\n",
       "ZipCode                  0\n",
       "LicenseIssuedDate        0\n",
       "LicenseExpiredDate       0\n",
       "Extract Year             0\n",
       "dtype: int64"
      ]
     },
     "execution_count": 9,
     "metadata": {},
     "output_type": "execute_result"
    }
   ],
   "source": [
    "#Checking that is worked\n",
    "df.isna().sum()"
   ]
  },
  {
   "cell_type": "code",
   "execution_count": 10,
   "metadata": {},
   "outputs": [
    {
     "data": {
      "text/html": [
       "<div>\n",
       "<style scoped>\n",
       "    .dataframe tbody tr th:only-of-type {\n",
       "        vertical-align: middle;\n",
       "    }\n",
       "\n",
       "    .dataframe tbody tr th {\n",
       "        vertical-align: top;\n",
       "    }\n",
       "\n",
       "    .dataframe thead th {\n",
       "        text-align: right;\n",
       "    }\n",
       "</style>\n",
       "<table border=\"1\" class=\"dataframe\">\n",
       "  <thead>\n",
       "    <tr style=\"text-align: right;\">\n",
       "      <th></th>\n",
       "      <th>RowNumber</th>\n",
       "      <th>AnimalName</th>\n",
       "      <th>AnimalGender</th>\n",
       "      <th>AnimalBirthMonth</th>\n",
       "      <th>BreedName</th>\n",
       "      <th>Borough</th>\n",
       "      <th>ZipCode</th>\n",
       "      <th>LicenseIssuedDate</th>\n",
       "      <th>LicenseExpiredDate</th>\n",
       "      <th>Extract Year</th>\n",
       "    </tr>\n",
       "  </thead>\n",
       "  <tbody>\n",
       "    <tr>\n",
       "      <th>50</th>\n",
       "      <td>51</td>\n",
       "      <td>MIA</td>\n",
       "      <td>F</td>\n",
       "      <td>2013</td>\n",
       "      <td>Rottweiler</td>\n",
       "      <td>None</td>\n",
       "      <td>33185</td>\n",
       "      <td>2014-09-15</td>\n",
       "      <td>2017-09-15</td>\n",
       "      <td>2016</td>\n",
       "    </tr>\n",
       "    <tr>\n",
       "      <th>246</th>\n",
       "      <td>247</td>\n",
       "      <td>PEBBLE</td>\n",
       "      <td>F</td>\n",
       "      <td>2012</td>\n",
       "      <td>Maltese</td>\n",
       "      <td>None</td>\n",
       "      <td>11249</td>\n",
       "      <td>2014-10-01</td>\n",
       "      <td>2017-10-19</td>\n",
       "      <td>2016</td>\n",
       "    </tr>\n",
       "    <tr>\n",
       "      <th>264</th>\n",
       "      <td>265</td>\n",
       "      <td>MAXI</td>\n",
       "      <td>M</td>\n",
       "      <td>2013</td>\n",
       "      <td>Poodle, Toy</td>\n",
       "      <td>None</td>\n",
       "      <td>10282</td>\n",
       "      <td>2014-10-03</td>\n",
       "      <td>2016-10-03</td>\n",
       "      <td>2016</td>\n",
       "    </tr>\n",
       "    <tr>\n",
       "      <th>566</th>\n",
       "      <td>567</td>\n",
       "      <td>PAPI</td>\n",
       "      <td>M</td>\n",
       "      <td>2010</td>\n",
       "      <td>Havanese</td>\n",
       "      <td>None</td>\n",
       "      <td>10282</td>\n",
       "      <td>2014-10-27</td>\n",
       "      <td>2017-11-24</td>\n",
       "      <td>2016</td>\n",
       "    </tr>\n",
       "    <tr>\n",
       "      <th>608</th>\n",
       "      <td>609</td>\n",
       "      <td>LOLA</td>\n",
       "      <td>F</td>\n",
       "      <td>2011</td>\n",
       "      <td>Beagle Crossbreed</td>\n",
       "      <td>None</td>\n",
       "      <td>11109</td>\n",
       "      <td>2014-10-31</td>\n",
       "      <td>2019-11-15</td>\n",
       "      <td>2016</td>\n",
       "    </tr>\n",
       "  </tbody>\n",
       "</table>\n",
       "</div>"
      ],
      "text/plain": [
       "     RowNumber AnimalName AnimalGender  AnimalBirthMonth          BreedName  \\\n",
       "50          51        MIA            F              2013         Rottweiler   \n",
       "246        247     PEBBLE            F              2012            Maltese   \n",
       "264        265       MAXI            M              2013        Poodle, Toy   \n",
       "566        567       PAPI            M              2010           Havanese   \n",
       "608        609       LOLA            F              2011  Beagle Crossbreed   \n",
       "\n",
       "    Borough  ZipCode LicenseIssuedDate LicenseExpiredDate  Extract Year  \n",
       "50     None    33185        2014-09-15         2017-09-15          2016  \n",
       "246    None    11249        2014-10-01         2017-10-19          2016  \n",
       "264    None    10282        2014-10-03         2016-10-03          2016  \n",
       "566    None    10282        2014-10-27         2017-11-24          2016  \n",
       "608    None    11109        2014-10-31         2019-11-15          2016  "
      ]
     },
     "execution_count": 10,
     "metadata": {},
     "output_type": "execute_result"
    }
   ],
   "source": [
    "df.loc[df.Borough.isna()].head()"
   ]
  },
  {
   "cell_type": "code",
   "execution_count": 11,
   "metadata": {},
   "outputs": [
    {
     "data": {
      "text/plain": [
       "2017    1779\n",
       "2016    1738\n",
       "2018    1127\n",
       "2015     763\n",
       "2014      31\n",
       "Name: LicenseIssuedDate, dtype: int64"
      ]
     },
     "execution_count": 11,
     "metadata": {},
     "output_type": "execute_result"
    }
   ],
   "source": [
    "# There are a lot of provided zipcodes that are not accurate. Need to see that breakdown by year.\n",
    "# Will come back to this in future work --> try and see why there are unaccounted zip codes.\n",
    "df.loc[df.Borough.isna()].LicenseIssuedDate.dt.year.value_counts()"
   ]
  },
  {
   "cell_type": "code",
   "execution_count": 12,
   "metadata": {},
   "outputs": [],
   "source": [
    "# Now want to add animal age \n",
    "def add_age(birth,license):\n",
    "    return license.year - birth"
   ]
  },
  {
   "cell_type": "code",
   "execution_count": 13,
   "metadata": {},
   "outputs": [],
   "source": [
    "df['Ages'] = df.apply(lambda x: add_age(x['AnimalBirthMonth'],x['LicenseIssuedDate']),axis=1)"
   ]
  },
  {
   "cell_type": "code",
   "execution_count": 14,
   "metadata": {},
   "outputs": [
    {
     "data": {
      "text/html": [
       "<div>\n",
       "<style scoped>\n",
       "    .dataframe tbody tr th:only-of-type {\n",
       "        vertical-align: middle;\n",
       "    }\n",
       "\n",
       "    .dataframe tbody tr th {\n",
       "        vertical-align: top;\n",
       "    }\n",
       "\n",
       "    .dataframe thead th {\n",
       "        text-align: right;\n",
       "    }\n",
       "</style>\n",
       "<table border=\"1\" class=\"dataframe\">\n",
       "  <thead>\n",
       "    <tr style=\"text-align: right;\">\n",
       "      <th></th>\n",
       "      <th>RowNumber</th>\n",
       "      <th>AnimalName</th>\n",
       "      <th>AnimalGender</th>\n",
       "      <th>AnimalBirthMonth</th>\n",
       "      <th>BreedName</th>\n",
       "      <th>Borough</th>\n",
       "      <th>ZipCode</th>\n",
       "      <th>LicenseIssuedDate</th>\n",
       "      <th>LicenseExpiredDate</th>\n",
       "      <th>Extract Year</th>\n",
       "      <th>Ages</th>\n",
       "    </tr>\n",
       "  </thead>\n",
       "  <tbody>\n",
       "    <tr>\n",
       "      <th>328776</th>\n",
       "      <td>100421</td>\n",
       "      <td>MACK</td>\n",
       "      <td>M</td>\n",
       "      <td>2018</td>\n",
       "      <td>Yorkshire Terrier</td>\n",
       "      <td>Manhattan</td>\n",
       "      <td>10027</td>\n",
       "      <td>2018-09-29</td>\n",
       "      <td>2019-09-29</td>\n",
       "      <td>2018</td>\n",
       "      <td>0</td>\n",
       "    </tr>\n",
       "    <tr>\n",
       "      <th>240287</th>\n",
       "      <td>11932</td>\n",
       "      <td>PRINCE</td>\n",
       "      <td>M</td>\n",
       "      <td>2016</td>\n",
       "      <td>Maltipoo</td>\n",
       "      <td>None</td>\n",
       "      <td>10069</td>\n",
       "      <td>2017-02-04</td>\n",
       "      <td>2018-02-04</td>\n",
       "      <td>2018</td>\n",
       "      <td>1</td>\n",
       "    </tr>\n",
       "    <tr>\n",
       "      <th>91503</th>\n",
       "      <td>91504</td>\n",
       "      <td>ABUGHAZEH</td>\n",
       "      <td>F</td>\n",
       "      <td>2016</td>\n",
       "      <td>Yorkshire Terrier</td>\n",
       "      <td>Staten Island</td>\n",
       "      <td>10312</td>\n",
       "      <td>2016-09-10</td>\n",
       "      <td>2017-09-10</td>\n",
       "      <td>2016</td>\n",
       "      <td>0</td>\n",
       "    </tr>\n",
       "    <tr>\n",
       "      <th>264847</th>\n",
       "      <td>36492</td>\n",
       "      <td>GUTKIN</td>\n",
       "      <td>M</td>\n",
       "      <td>2017</td>\n",
       "      <td>Maltese</td>\n",
       "      <td>Brooklyn</td>\n",
       "      <td>11229</td>\n",
       "      <td>2017-09-22</td>\n",
       "      <td>2018-09-22</td>\n",
       "      <td>2018</td>\n",
       "      <td>0</td>\n",
       "    </tr>\n",
       "    <tr>\n",
       "      <th>133922</th>\n",
       "      <td>21204</td>\n",
       "      <td>BANDIT</td>\n",
       "      <td>M</td>\n",
       "      <td>2011</td>\n",
       "      <td>Pomeranian</td>\n",
       "      <td>Brooklyn</td>\n",
       "      <td>11239</td>\n",
       "      <td>2016-06-17</td>\n",
       "      <td>2017-06-16</td>\n",
       "      <td>2017</td>\n",
       "      <td>5</td>\n",
       "    </tr>\n",
       "    <tr>\n",
       "      <th>210764</th>\n",
       "      <td>98046</td>\n",
       "      <td>PHOEBE</td>\n",
       "      <td>F</td>\n",
       "      <td>2006</td>\n",
       "      <td>Unknown</td>\n",
       "      <td>None</td>\n",
       "      <td>11243</td>\n",
       "      <td>2017-09-24</td>\n",
       "      <td>2018-10-02</td>\n",
       "      <td>2017</td>\n",
       "      <td>11</td>\n",
       "    </tr>\n",
       "    <tr>\n",
       "      <th>72502</th>\n",
       "      <td>72503</td>\n",
       "      <td>HUMPHREY</td>\n",
       "      <td>M</td>\n",
       "      <td>2008</td>\n",
       "      <td>Weimaraner</td>\n",
       "      <td>Queens</td>\n",
       "      <td>11101</td>\n",
       "      <td>2016-06-21</td>\n",
       "      <td>2017-06-08</td>\n",
       "      <td>2016</td>\n",
       "      <td>8</td>\n",
       "    </tr>\n",
       "    <tr>\n",
       "      <th>259958</th>\n",
       "      <td>31603</td>\n",
       "      <td>KEFIRA</td>\n",
       "      <td>F</td>\n",
       "      <td>2005</td>\n",
       "      <td>Pomeranian Crossbreed</td>\n",
       "      <td>Manhattan</td>\n",
       "      <td>10024</td>\n",
       "      <td>2017-08-12</td>\n",
       "      <td>2019-08-12</td>\n",
       "      <td>2018</td>\n",
       "      <td>12</td>\n",
       "    </tr>\n",
       "    <tr>\n",
       "      <th>122150</th>\n",
       "      <td>9432</td>\n",
       "      <td>ASTOR</td>\n",
       "      <td>M</td>\n",
       "      <td>2015</td>\n",
       "      <td>Terrier mix</td>\n",
       "      <td>Queens</td>\n",
       "      <td>11105</td>\n",
       "      <td>2016-02-19</td>\n",
       "      <td>2021-02-19</td>\n",
       "      <td>2017</td>\n",
       "      <td>1</td>\n",
       "    </tr>\n",
       "    <tr>\n",
       "      <th>5528</th>\n",
       "      <td>5529</td>\n",
       "      <td>CALAMITY</td>\n",
       "      <td>F</td>\n",
       "      <td>2007</td>\n",
       "      <td>Beagle Crossbreed</td>\n",
       "      <td>Bronx</td>\n",
       "      <td>10465</td>\n",
       "      <td>2015-02-22</td>\n",
       "      <td>2018-03-23</td>\n",
       "      <td>2016</td>\n",
       "      <td>8</td>\n",
       "    </tr>\n",
       "  </tbody>\n",
       "</table>\n",
       "</div>"
      ],
      "text/plain": [
       "        RowNumber AnimalName AnimalGender  AnimalBirthMonth  \\\n",
       "328776     100421       MACK            M              2018   \n",
       "240287      11932     PRINCE            M              2016   \n",
       "91503       91504  ABUGHAZEH            F              2016   \n",
       "264847      36492     GUTKIN            M              2017   \n",
       "133922      21204     BANDIT            M              2011   \n",
       "210764      98046     PHOEBE            F              2006   \n",
       "72502       72503   HUMPHREY            M              2008   \n",
       "259958      31603     KEFIRA            F              2005   \n",
       "122150       9432      ASTOR            M              2015   \n",
       "5528         5529   CALAMITY            F              2007   \n",
       "\n",
       "                    BreedName        Borough  ZipCode LicenseIssuedDate  \\\n",
       "328776      Yorkshire Terrier      Manhattan    10027        2018-09-29   \n",
       "240287               Maltipoo           None    10069        2017-02-04   \n",
       "91503       Yorkshire Terrier  Staten Island    10312        2016-09-10   \n",
       "264847                Maltese       Brooklyn    11229        2017-09-22   \n",
       "133922             Pomeranian       Brooklyn    11239        2016-06-17   \n",
       "210764                Unknown           None    11243        2017-09-24   \n",
       "72502              Weimaraner         Queens    11101        2016-06-21   \n",
       "259958  Pomeranian Crossbreed      Manhattan    10024        2017-08-12   \n",
       "122150            Terrier mix         Queens    11105        2016-02-19   \n",
       "5528        Beagle Crossbreed          Bronx    10465        2015-02-22   \n",
       "\n",
       "       LicenseExpiredDate  Extract Year  Ages  \n",
       "328776         2019-09-29          2018     0  \n",
       "240287         2018-02-04          2018     1  \n",
       "91503          2017-09-10          2016     0  \n",
       "264847         2018-09-22          2018     0  \n",
       "133922         2017-06-16          2017     5  \n",
       "210764         2018-10-02          2017    11  \n",
       "72502          2017-06-08          2016     8  \n",
       "259958         2019-08-12          2018    12  \n",
       "122150         2021-02-19          2017     1  \n",
       "5528           2018-03-23          2016     8  "
      ]
     },
     "execution_count": 14,
     "metadata": {},
     "output_type": "execute_result"
    }
   ],
   "source": [
    "# Check that it worked\n",
    "df.sample(10)"
   ]
  },
  {
   "cell_type": "code",
   "execution_count": 15,
   "metadata": {},
   "outputs": [
    {
     "data": {
      "text/plain": [
       "110658"
      ]
     },
     "execution_count": 15,
     "metadata": {},
     "output_type": "execute_result"
    }
   ],
   "source": [
    "#see current active licenses (all the licenses that haven't expired yet)\n",
    "active = df.loc[df.LicenseExpiredDate.dt.year >= 2019]\n",
    "len(active)"
   ]
  },
  {
   "cell_type": "code",
   "execution_count": 16,
   "metadata": {},
   "outputs": [
    {
     "data": {
      "text/plain": [
       "Manhattan        39593\n",
       "Brooklyn         27703\n",
       "Queens           22055\n",
       "Bronx            10365\n",
       "Staten Island     9195\n",
       "Name: Borough, dtype: int64"
      ]
     },
     "execution_count": 16,
     "metadata": {},
     "output_type": "execute_result"
    }
   ],
   "source": [
    "active.Borough.value_counts()"
   ]
  },
  {
   "cell_type": "code",
   "execution_count": 17,
   "metadata": {},
   "outputs": [
    {
     "data": {
      "text/plain": [
       "M    59723\n",
       "F    50927\n",
       "Name: AnimalGender, dtype: int64"
      ]
     },
     "execution_count": 17,
     "metadata": {},
     "output_type": "execute_result"
    }
   ],
   "source": [
    "active.AnimalGender.value_counts()"
   ]
  },
  {
   "cell_type": "code",
   "execution_count": 58,
   "metadata": {},
   "outputs": [
    {
     "data": {
      "image/png": "[encoded data removed]",
      "text/plain": [
       "<Figure size 432x288 with 1 Axes>"
      ]
     },
     "metadata": {
      "needs_background": "light"
     },
     "output_type": "display_data"
    }
   ],
   "source": [
    "#plot how many licensed issued by year\n",
    "title = \"Licenses issued from 2016-2018\"\n",
    "fig = df.loc[ (df.LicenseIssuedDate.dt.year >=2016)& (df.LicenseIssuedDate.dt.year <=2018)].LicenseIssuedDate.dt.year.value_counts().sort_index().plot(kind=\"bar\",title=title,color=\"orange\")\n",
    "fig.set_xlabel('year')\n",
    "fig.set_ylabel('amount')\n",
    "fig.set_ylim(0,130000)\n",
    "\n",
    "for p in fig.patches:\n",
    "    fig.annotate(str(p.get_height()), (p.get_x() + p.get_width()/2, p.get_height()+1),ha=\"center\",va=\"center\",\n",
    "                xytext=(0, 10),textcoords='offset points')"
   ]
  },
  {
   "cell_type": "code",
   "execution_count": 57,
   "metadata": {},
   "outputs": [
    {
     "data": {
      "image/png": "[encoded data removed]",
      "text/plain": [
       "<Figure size 432x288 with 1 Axes>"
      ]
     },
     "metadata": {
      "needs_background": "light"
     },
     "output_type": "display_data"
    }
   ],
   "source": [
    "#Plot licenses expiring from 2016-2018\n",
    "title = \"Licenses expired from 2016-2018\"\n",
    "fig = df.loc[df.LicenseExpiredDate.dt.year <=2018].LicenseExpiredDate.dt.year.value_counts().sort_index().plot(kind=\"bar\",title=title)\n",
    "fig.set_xlabel('year')\n",
    "fig.set_ylabel('amount')\n",
    "fig.set_ylim(0,130000)\n",
    "\n",
    "\n",
    "for p in fig.patches:\n",
    "    fig.annotate(str(p.get_height()), (p.get_x() + p.get_width()/2, p.get_height()+1),ha=\"center\",va=\"center\",\n",
    "                xytext=(0, 10),textcoords='offset points')"
   ]
  },
  {
   "cell_type": "code",
   "execution_count": 54,
   "metadata": {},
   "outputs": [
    {
     "data": {
      "image/png": "[encoded data removed]",
      "text/plain": [
       "<Figure size 432x288 with 1 Axes>"
      ]
     },
     "metadata": {
      "needs_background": "light"
     },
     "output_type": "display_data"
    }
   ],
   "source": [
    "# Have to make sense of the clear difference. In 2018 there were over 35 thousand licenses expired than issued\n",
    "age = df.loc[(df.LicenseExpiredDate.dt.year == 2018) & (df.Ages <19)].Ages.plot(kind=\"hist\",color='red',bins=20,\n",
    "                                                                                edgecolor=\"black\",title=\"Dog population by ages in 2018\")\n",
    "age.set_xlabel(\"Age Groups\")\n",
    "age.set_ylabel(\"Population\")\n",
    "age.set_xlim(0,18)\n",
    "age.set_xticks([0,3,6,9,12,15,18])\n",
    "\n",
    "\n",
    "#Note capped the ages at 18 to account for account for outliers. Age data is self reported and some dogs had inputed\n",
    "#ages that made them 100+ years old. "
   ]
  },
  {
   "cell_type": "code",
   "execution_count": 21,
   "metadata": {},
   "outputs": [
    {
     "data": {
      "text/plain": [
       "4.0"
      ]
     },
     "execution_count": 21,
     "metadata": {},
     "output_type": "execute_result"
    }
   ],
   "source": [
    "df.loc[df.LicenseExpiredDate.dt.year == 2018].Ages.median()"
   ]
  },
  {
   "cell_type": "code",
   "execution_count": 22,
   "metadata": {},
   "outputs": [],
   "source": [
    "#Unlikely that dogs are dying with the median age being so young. However there are also less licenses issued in 2018,\n",
    "#so that does imply that less dogs purchased/adopted.\n",
    "\n",
    "#Need to check most common dogs --> try and figure out how many licenses are being renewed\n",
    "\n",
    "\n"
   ]
  },
  {
   "cell_type": "code",
   "execution_count": 23,
   "metadata": {},
   "outputs": [
    {
     "data": {
      "text/plain": [
       "Unknown              38785\n",
       "Yorkshire Terrier    21922\n",
       "Shih Tzu             19631\n",
       "Chihuahua            15647\n",
       "Maltese              11391\n",
       "Name: BreedName, dtype: int64"
      ]
     },
     "execution_count": 23,
     "metadata": {},
     "output_type": "execute_result"
    }
   ],
   "source": [
    "df.BreedName.value_counts().head()"
   ]
  },
  {
   "cell_type": "code",
   "execution_count": 24,
   "metadata": {},
   "outputs": [
    {
     "data": {
      "text/plain": [
       "NAME NOT PROVIDED    417\n",
       "BELLA                378\n",
       "COCO                 352\n",
       "UNKNOWN              331\n",
       "MAX                  319\n",
       "Name: AnimalName, dtype: int64"
      ]
     },
     "execution_count": 24,
     "metadata": {},
     "output_type": "execute_result"
    }
   ],
   "source": [
    "df.loc[df.BreedName == \"Yorkshire Terrier\"].AnimalName.value_counts().head()"
   ]
  },
  {
   "cell_type": "code",
   "execution_count": 25,
   "metadata": {},
   "outputs": [
    {
     "data": {
      "text/plain": [
       "UNKNOWN              5379\n",
       "BELLA                3824\n",
       "NAME NOT PROVIDED    3763\n",
       "MAX                  3582\n",
       "CHARLIE              2852\n",
       "Name: AnimalName, dtype: int64"
      ]
     },
     "execution_count": 25,
     "metadata": {},
     "output_type": "execute_result"
    }
   ],
   "source": [
    "df.AnimalName.value_counts().head()"
   ]
  },
  {
   "cell_type": "code",
   "execution_count": 26,
   "metadata": {},
   "outputs": [
    {
     "data": {
      "text/plain": [
       "Unknown              462\n",
       "Yorkshire Terrier    378\n",
       "Shih Tzu             304\n",
       "Maltese              183\n",
       "Chihuahua            166\n",
       "Name: BreedName, dtype: int64"
      ]
     },
     "execution_count": 26,
     "metadata": {},
     "output_type": "execute_result"
    }
   ],
   "source": [
    "df.loc[df.AnimalName == \"BELLA\"].BreedName.value_counts().head()"
   ]
  },
  {
   "cell_type": "code",
   "execution_count": 27,
   "metadata": {},
   "outputs": [],
   "source": [
    "#So in NYC Yorkshire Terrier's the most common dog. Want to check dogs named Bella by age to track growth by the year. \n",
    "#Want to first figure out expiration time."
   ]
  },
  {
   "cell_type": "code",
   "execution_count": 28,
   "metadata": {},
   "outputs": [],
   "source": [
    "def expire_time(start,end):\n",
    "    return end.year - start.year"
   ]
  },
  {
   "cell_type": "code",
   "execution_count": 29,
   "metadata": {},
   "outputs": [],
   "source": [
    "df['ExpireTime'] = df.apply(lambda x: expire_time(x['LicenseIssuedDate'],x['LicenseExpiredDate']),axis=1)"
   ]
  },
  {
   "cell_type": "code",
   "execution_count": 30,
   "metadata": {},
   "outputs": [
    {
     "data": {
      "text/plain": [
       "1     264896\n",
       "2      40957\n",
       "5      19058\n",
       "3      13646\n",
       "0       3862\n",
       "4       2757\n",
       "6        535\n",
       "10         7\n",
       "7          5\n",
       "9          3\n",
       "8          1\n",
       "Name: ExpireTime, dtype: int64"
      ]
     },
     "execution_count": 30,
     "metadata": {},
     "output_type": "execute_result"
    }
   ],
   "source": [
    "df['ExpireTime'].value_counts()"
   ]
  },
  {
   "cell_type": "code",
   "execution_count": 31,
   "metadata": {},
   "outputs": [
    {
     "data": {
      "text/plain": [
       "1    26\n",
       "Name: ExpireTime, dtype: int64"
      ]
     },
     "execution_count": 31,
     "metadata": {},
     "output_type": "execute_result"
    }
   ],
   "source": [
    "df.loc[(df.LicenseIssuedDate.dt.year==2016)&(df.BreedName == \"Yorkshire Terrier\")&(df.Ages == 0) &\n",
    "      (df.AnimalName == \"BELLA\")].ExpireTime.value_counts()"
   ]
  },
  {
   "cell_type": "code",
   "execution_count": 32,
   "metadata": {},
   "outputs": [
    {
     "data": {
      "text/plain": [
       "1    17\n",
       "2     4\n",
       "Name: ExpireTime, dtype: int64"
      ]
     },
     "execution_count": 32,
     "metadata": {},
     "output_type": "execute_result"
    }
   ],
   "source": [
    "#Now want to check how many licenses were issued in 2017 for 1 year old dogs. If none of these puppies less than \n",
    "#1 died, then there should be at least 26 licenses issued. \n",
    "df.loc[(df.LicenseIssuedDate.dt.year==2017)&(df.BreedName == \"Yorkshire Terrier\")&(df.Ages == 1) &\n",
    "      (df.AnimalName == \"BELLA\")].ExpireTime.value_counts()"
   ]
  },
  {
   "cell_type": "code",
   "execution_count": 33,
   "metadata": {},
   "outputs": [
    {
     "data": {
      "text/plain": [
       "1    4\n",
       "Name: ExpireTime, dtype: int64"
      ]
     },
     "execution_count": 33,
     "metadata": {},
     "output_type": "execute_result"
    }
   ],
   "source": [
    "#We've had a net loss of 5 licenses. In 2018 we should expect to see at least 17 licenses assuming no deaths. \n",
    "df.loc[(df.LicenseIssuedDate.dt.year==2018)&(df.BreedName == \"Yorkshire Terrier\")&(df.Ages == 2) &\n",
    "      (df.AnimalName == \"BELLA\")].ExpireTime.value_counts()"
   ]
  },
  {
   "cell_type": "code",
   "execution_count": 34,
   "metadata": {},
   "outputs": [],
   "source": [
    "#In 2016 there were 25 Yorkshire Terrier's named Bella under age 1 that were issued one year licenses. \n",
    "#Then by 2018 there were only 4 Yorkshire Terrier's that were 2. \n",
    "#Will tie this to zipcode to see these results. \n",
    "#First just want to see which zipcodes have the most dogs"
   ]
  },
  {
   "cell_type": "code",
   "execution_count": 35,
   "metadata": {},
   "outputs": [],
   "source": [
    "top = df.loc[df.Ages == 0].ZipCode.value_counts().sort_values(ascending=False)[:9]\n",
    "zip_list = top.index.tolist()"
   ]
  },
  {
   "cell_type": "code",
   "execution_count": 36,
   "metadata": {},
   "outputs": [],
   "source": [
    "def top_breed(code):\n",
    "    code_df = df.loc[(df.ZipCode == code)&(df.Ages == 0) & (df.LicenseIssuedDate.dt.year == 2016)\n",
    "                    & (df.ExpireTime == 1)]\n",
    "    breed = code_df.BreedName.value_counts().index[0]\n",
    "    return breed\n",
    "def make_year(code,breed,year,age):\n",
    "    \n",
    "    issued = len(df.loc[(df.ZipCode == code)&(df.Ages == age) & (df.LicenseIssuedDate.dt.year == year)\n",
    "                     & (df.BreedName == breed)])\n",
    "    return issued\n",
    "    "
   ]
  },
  {
   "cell_type": "code",
   "execution_count": 37,
   "metadata": {},
   "outputs": [],
   "source": [
    "year_df = pd.DataFrame()\n",
    "year_df['ZipCode'] = zip_list\n",
    "year_df['Breed'] = year_df['ZipCode'].apply(top_breed)\n",
    "year_df['Issued2016'] = year_df.apply(lambda x: make_year(x['ZipCode'],x['Breed'],2016,0),axis=1)\n",
    "year_df['Issued2017'] = year_df.apply(lambda x: make_year(x['ZipCode'],x['Breed'],2017,1),axis=1)\n",
    "year_df['Issued2018'] = year_df.apply(lambda x: make_year(x['ZipCode'],x['Breed'],2018,2),axis=1)"
   ]
  },
  {
   "cell_type": "code",
   "execution_count": 38,
   "metadata": {},
   "outputs": [
    {
     "data": {
      "text/html": [
       "<div>\n",
       "<style scoped>\n",
       "    .dataframe tbody tr th:only-of-type {\n",
       "        vertical-align: middle;\n",
       "    }\n",
       "\n",
       "    .dataframe tbody tr th {\n",
       "        vertical-align: top;\n",
       "    }\n",
       "\n",
       "    .dataframe thead th {\n",
       "        text-align: right;\n",
       "    }\n",
       "</style>\n",
       "<table border=\"1\" class=\"dataframe\">\n",
       "  <thead>\n",
       "    <tr style=\"text-align: right;\">\n",
       "      <th></th>\n",
       "      <th>ZipCode</th>\n",
       "      <th>Breed</th>\n",
       "      <th>Issued2016</th>\n",
       "      <th>Issued2017</th>\n",
       "      <th>Issued2018</th>\n",
       "    </tr>\n",
       "  </thead>\n",
       "  <tbody>\n",
       "    <tr>\n",
       "      <th>0</th>\n",
       "      <td>10011</td>\n",
       "      <td>French Bulldog</td>\n",
       "      <td>31</td>\n",
       "      <td>34</td>\n",
       "      <td>4</td>\n",
       "    </tr>\n",
       "    <tr>\n",
       "      <th>1</th>\n",
       "      <td>11201</td>\n",
       "      <td>Australian Shepherd</td>\n",
       "      <td>19</td>\n",
       "      <td>7</td>\n",
       "      <td>5</td>\n",
       "    </tr>\n",
       "    <tr>\n",
       "      <th>2</th>\n",
       "      <td>10009</td>\n",
       "      <td>French Bulldog</td>\n",
       "      <td>17</td>\n",
       "      <td>18</td>\n",
       "      <td>5</td>\n",
       "    </tr>\n",
       "    <tr>\n",
       "      <th>3</th>\n",
       "      <td>10025</td>\n",
       "      <td>Labrador Retriever Crossbreed</td>\n",
       "      <td>11</td>\n",
       "      <td>18</td>\n",
       "      <td>4</td>\n",
       "    </tr>\n",
       "    <tr>\n",
       "      <th>4</th>\n",
       "      <td>10128</td>\n",
       "      <td>Australian Shepherd</td>\n",
       "      <td>9</td>\n",
       "      <td>3</td>\n",
       "      <td>2</td>\n",
       "    </tr>\n",
       "    <tr>\n",
       "      <th>5</th>\n",
       "      <td>10023</td>\n",
       "      <td>French Bulldog</td>\n",
       "      <td>22</td>\n",
       "      <td>14</td>\n",
       "      <td>5</td>\n",
       "    </tr>\n",
       "    <tr>\n",
       "      <th>6</th>\n",
       "      <td>10003</td>\n",
       "      <td>French Bulldog</td>\n",
       "      <td>17</td>\n",
       "      <td>12</td>\n",
       "      <td>2</td>\n",
       "    </tr>\n",
       "    <tr>\n",
       "      <th>7</th>\n",
       "      <td>10014</td>\n",
       "      <td>French Bulldog</td>\n",
       "      <td>28</td>\n",
       "      <td>19</td>\n",
       "      <td>4</td>\n",
       "    </tr>\n",
       "    <tr>\n",
       "      <th>8</th>\n",
       "      <td>10019</td>\n",
       "      <td>French Bulldog</td>\n",
       "      <td>20</td>\n",
       "      <td>22</td>\n",
       "      <td>3</td>\n",
       "    </tr>\n",
       "  </tbody>\n",
       "</table>\n",
       "</div>"
      ],
      "text/plain": [
       "   ZipCode                          Breed  Issued2016  Issued2017  Issued2018\n",
       "0    10011                 French Bulldog          31          34           4\n",
       "1    11201            Australian Shepherd          19           7           5\n",
       "2    10009                 French Bulldog          17          18           5\n",
       "3    10025  Labrador Retriever Crossbreed          11          18           4\n",
       "4    10128            Australian Shepherd           9           3           2\n",
       "5    10023                 French Bulldog          22          14           5\n",
       "6    10003                 French Bulldog          17          12           2\n",
       "7    10014                 French Bulldog          28          19           4\n",
       "8    10019                 French Bulldog          20          22           3"
      ]
     },
     "execution_count": 38,
     "metadata": {},
     "output_type": "execute_result"
    }
   ],
   "source": [
    "year_df"
   ]
  },
  {
   "cell_type": "code",
   "execution_count": 39,
   "metadata": {},
   "outputs": [],
   "source": [
    "#Now I want to get a sense of how many licenses were expected to be issued in 2017 and 2018\n",
    "def get_expected(code,breed,year):\n",
    "    \n",
    "    if year == 2017:\n",
    "        expect = len(df.loc[(df.ZipCode == code) &(df.Ages == 0) & (df.LicenseIssuedDate.dt.year == 2016)\n",
    "                           &(df.BreedName == breed) &(df.ExpireTime == 1)])\n",
    "    if year == 2018:\n",
    "         expect = len(df.loc[(df.ZipCode == code) &(df.Ages == 0) & (df.LicenseIssuedDate.dt.year == 2016)\n",
    "                           &(df.BreedName == breed) & (df.ExpireTime == 2)]) + len(df.loc[(df.ZipCode == code) &(df.Ages == 1) & (df.LicenseIssuedDate.dt.year == 2017)\n",
    "                           &(df.BreedName == breed) & (df.ExpireTime == 1)])\n",
    "    \n",
    "    return expect"
   ]
  },
  {
   "cell_type": "code",
   "execution_count": 40,
   "metadata": {},
   "outputs": [
    {
     "data": {
      "text/plain": [
       "20"
      ]
     },
     "execution_count": 40,
     "metadata": {},
     "output_type": "execute_result"
    }
   ],
   "source": [
    "get_expected(10019,\"French Bulldog\",2017)"
   ]
  },
  {
   "cell_type": "code",
   "execution_count": 41,
   "metadata": {},
   "outputs": [
    {
     "data": {
      "text/html": [
       "<div>\n",
       "<style scoped>\n",
       "    .dataframe tbody tr th:only-of-type {\n",
       "        vertical-align: middle;\n",
       "    }\n",
       "\n",
       "    .dataframe tbody tr th {\n",
       "        vertical-align: top;\n",
       "    }\n",
       "\n",
       "    .dataframe thead th {\n",
       "        text-align: right;\n",
       "    }\n",
       "</style>\n",
       "<table border=\"1\" class=\"dataframe\">\n",
       "  <thead>\n",
       "    <tr style=\"text-align: right;\">\n",
       "      <th></th>\n",
       "      <th>ZipCode</th>\n",
       "      <th>Breed</th>\n",
       "      <th>Issued2016</th>\n",
       "      <th>Issued2017</th>\n",
       "      <th>Issued2018</th>\n",
       "    </tr>\n",
       "  </thead>\n",
       "  <tbody>\n",
       "    <tr>\n",
       "      <th>0</th>\n",
       "      <td>10011</td>\n",
       "      <td>French Bulldog</td>\n",
       "      <td>31</td>\n",
       "      <td>34</td>\n",
       "      <td>4</td>\n",
       "    </tr>\n",
       "    <tr>\n",
       "      <th>1</th>\n",
       "      <td>11201</td>\n",
       "      <td>Australian Shepherd</td>\n",
       "      <td>19</td>\n",
       "      <td>7</td>\n",
       "      <td>5</td>\n",
       "    </tr>\n",
       "    <tr>\n",
       "      <th>2</th>\n",
       "      <td>10009</td>\n",
       "      <td>French Bulldog</td>\n",
       "      <td>17</td>\n",
       "      <td>18</td>\n",
       "      <td>5</td>\n",
       "    </tr>\n",
       "    <tr>\n",
       "      <th>3</th>\n",
       "      <td>10025</td>\n",
       "      <td>Labrador Retriever Crossbreed</td>\n",
       "      <td>11</td>\n",
       "      <td>18</td>\n",
       "      <td>4</td>\n",
       "    </tr>\n",
       "    <tr>\n",
       "      <th>4</th>\n",
       "      <td>10128</td>\n",
       "      <td>Australian Shepherd</td>\n",
       "      <td>9</td>\n",
       "      <td>3</td>\n",
       "      <td>2</td>\n",
       "    </tr>\n",
       "    <tr>\n",
       "      <th>5</th>\n",
       "      <td>10023</td>\n",
       "      <td>French Bulldog</td>\n",
       "      <td>22</td>\n",
       "      <td>14</td>\n",
       "      <td>5</td>\n",
       "    </tr>\n",
       "    <tr>\n",
       "      <th>6</th>\n",
       "      <td>10003</td>\n",
       "      <td>French Bulldog</td>\n",
       "      <td>17</td>\n",
       "      <td>12</td>\n",
       "      <td>2</td>\n",
       "    </tr>\n",
       "    <tr>\n",
       "      <th>7</th>\n",
       "      <td>10014</td>\n",
       "      <td>French Bulldog</td>\n",
       "      <td>28</td>\n",
       "      <td>19</td>\n",
       "      <td>4</td>\n",
       "    </tr>\n",
       "    <tr>\n",
       "      <th>8</th>\n",
       "      <td>10019</td>\n",
       "      <td>French Bulldog</td>\n",
       "      <td>20</td>\n",
       "      <td>22</td>\n",
       "      <td>3</td>\n",
       "    </tr>\n",
       "  </tbody>\n",
       "</table>\n",
       "</div>"
      ],
      "text/plain": [
       "   ZipCode                          Breed  Issued2016  Issued2017  Issued2018\n",
       "0    10011                 French Bulldog          31          34           4\n",
       "1    11201            Australian Shepherd          19           7           5\n",
       "2    10009                 French Bulldog          17          18           5\n",
       "3    10025  Labrador Retriever Crossbreed          11          18           4\n",
       "4    10128            Australian Shepherd           9           3           2\n",
       "5    10023                 French Bulldog          22          14           5\n",
       "6    10003                 French Bulldog          17          12           2\n",
       "7    10014                 French Bulldog          28          19           4\n",
       "8    10019                 French Bulldog          20          22           3"
      ]
     },
     "execution_count": 41,
     "metadata": {},
     "output_type": "execute_result"
    }
   ],
   "source": [
    "year_df"
   ]
  },
  {
   "cell_type": "code",
   "execution_count": 42,
   "metadata": {},
   "outputs": [],
   "source": [
    "year_df['Expected2017'] = year_df.apply(lambda x: get_expected(x['ZipCode'],x['Breed'],2017),axis=1)"
   ]
  },
  {
   "cell_type": "code",
   "execution_count": 43,
   "metadata": {},
   "outputs": [],
   "source": [
    "year_df['Expected2018'] = year_df.apply(lambda x: get_expected(x['ZipCode'],x['Breed'],2018),axis=1)"
   ]
  },
  {
   "cell_type": "code",
   "execution_count": 44,
   "metadata": {},
   "outputs": [],
   "source": [
    "#There needs to be more compliance. But the system also doesn't incentivize compliance. Look at the distribution\n",
    "#of licenses by expiration time."
   ]
  },
  {
   "cell_type": "code",
   "execution_count": 53,
   "metadata": {},
   "outputs": [
    {
     "data": {
      "image/png": "[encoded data removed]",
      "text/plain": [
       "<Figure size 432x288 with 1 Axes>"
      ]
     },
     "metadata": {
      "needs_background": "light"
     },
     "output_type": "display_data"
    }
   ],
   "source": [
    "expire_plot = df['ExpireTime'].plot(kind=\"hist\",edgecolor=\"black\",title = \"Expiration time of licenses issued\")\n",
    "expire_plot.set_xlabel(\"Expiration time in years\")\n",
    "expire_plot.set_ylabel(\"Amount\")\n",
    "expire_plot.set_xlim(0,6)"
   ]
  },
  {
   "cell_type": "code",
   "execution_count": 59,
   "metadata": {},
   "outputs": [],
   "source": [
    "#Get quick facts --> most common names"
   ]
  },
  {
   "cell_type": "code",
   "execution_count": 64,
   "metadata": {},
   "outputs": [
    {
     "data": {
      "text/plain": [
       "MAX                  3528\n",
       "UNKNOWN              3139\n",
       "CHARLIE              2475\n",
       "NAME NOT PROVIDED    2432\n",
       "ROCKY                2373\n",
       "BUDDY                1995\n",
       "TEDDY                1667\n",
       "LUCKY                1667\n",
       "TOBY                 1478\n",
       "MILO                 1336\n",
       "Name: AnimalName, dtype: int64"
      ]
     },
     "execution_count": 64,
     "metadata": {},
     "output_type": "execute_result"
    }
   ],
   "source": [
    "df.loc[df.AnimalGender == \"M\"].AnimalName.value_counts().head(10)"
   ]
  },
  {
   "cell_type": "code",
   "execution_count": 65,
   "metadata": {},
   "outputs": [
    {
     "data": {
      "text/plain": [
       "BELLA       3814\n",
       "LOLA        2462\n",
       "UNKNOWN     2240\n",
       "LUCY        2134\n",
       "LUNA        1957\n",
       "DAISY       1882\n",
       "COCO        1848\n",
       "PRINCESS    1625\n",
       "CHLOE       1487\n",
       "MOLLY       1400\n",
       "Name: AnimalName, dtype: int64"
      ]
     },
     "execution_count": 65,
     "metadata": {},
     "output_type": "execute_result"
    }
   ],
   "source": [
    "df.loc[df.AnimalGender == \"F\"].AnimalName.value_counts().head(10)"
   ]
  },
  {
   "cell_type": "code",
   "execution_count": 66,
   "metadata": {},
   "outputs": [
    {
     "data": {
      "text/plain": [
       "Unknown                                 38785\n",
       "Yorkshire Terrier                       21922\n",
       "Shih Tzu                                19631\n",
       "Chihuahua                               15647\n",
       "Maltese                                 11391\n",
       "Labrador Retriever                      11327\n",
       "American Pit Bull Mix / Pit Bull Mix    10304\n",
       "Labrador Retriever Crossbreed            8511\n",
       "American Pit Bull Terrier/Pit Bull       8319\n",
       "Pomeranian                               6345\n",
       "Name: BreedName, dtype: int64"
      ]
     },
     "execution_count": 66,
     "metadata": {},
     "output_type": "execute_result"
    }
   ],
   "source": [
    "df.BreedName.value_counts().head(10)"
   ]
  },
  {
   "cell_type": "code",
   "execution_count": null,
   "metadata": {},
   "outputs": [],
   "source": []
  }
 ],
 "metadata": {
  "kernelspec": {
   "display_name": "Python 3",
   "language": "python",
   "name": "python3"
  },
  "language_info": {
   "codemirror_mode": {
    "name": "ipython",
    "version": 3
   },
   "file_extension": ".py",
   "mimetype": "text/x-python",
   "name": "python",
   "nbconvert_exporter": "python",
   "pygments_lexer": "ipython3",
   "version": "3.7.3"
  }
 },
 "nbformat": 4,
 "nbformat_minor": 2
}
